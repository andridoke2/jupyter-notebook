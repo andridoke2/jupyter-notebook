{
 "cells": [
  {
   "cell_type": "code",
   "execution_count": 4,
   "metadata": {},
   "outputs": [],
   "source": [
    "#import Libraries\n",
    "import pandas as pd\n",
    "import matplotlib.pyplot as plt\n",
    "import numpy as np"
   ]
  },
  {
   "cell_type": "code",
   "execution_count": 5,
   "metadata": {},
   "outputs": [
    {
     "name": "stdout",
     "output_type": "stream",
     "text": [
      "        Id  MSSubClass MSZoning  LotFrontage  LotArea Street Alley LotShape  \\\n",
      "0        1          60       RL         65.0     8450   Pave   NaN      Reg   \n",
      "1        2          20       RL         80.0     9600   Pave   NaN      Reg   \n",
      "2        3          60       RL         68.0    11250   Pave   NaN      IR1   \n",
      "3        4          70       RL         60.0     9550   Pave   NaN      IR1   \n",
      "4        5          60       RL         84.0    14260   Pave   NaN      IR1   \n",
      "5        6          50       RL         85.0    14115   Pave   NaN      IR1   \n",
      "6        7          20       RL         75.0    10084   Pave   NaN      Reg   \n",
      "7        8          60       RL          NaN    10382   Pave   NaN      IR1   \n",
      "8        9          50       RM         51.0     6120   Pave   NaN      Reg   \n",
      "9       10         190       RL         50.0     7420   Pave   NaN      Reg   \n",
      "10      11          20       RL         70.0    11200   Pave   NaN      Reg   \n",
      "11      12          60       RL         85.0    11924   Pave   NaN      IR1   \n",
      "12      13          20       RL          NaN    12968   Pave   NaN      IR2   \n",
      "13      14          20       RL         91.0    10652   Pave   NaN      IR1   \n",
      "14      15          20       RL          NaN    10920   Pave   NaN      IR1   \n",
      "15      16          45       RM         51.0     6120   Pave   NaN      Reg   \n",
      "16      17          20       RL          NaN    11241   Pave   NaN      IR1   \n",
      "17      18          90       RL         72.0    10791   Pave   NaN      Reg   \n",
      "18      19          20       RL         66.0    13695   Pave   NaN      Reg   \n",
      "19      20          20       RL         70.0     7560   Pave   NaN      Reg   \n",
      "20      21          60       RL        101.0    14215   Pave   NaN      IR1   \n",
      "21      22          45       RM         57.0     7449   Pave  Grvl      Reg   \n",
      "22      23          20       RL         75.0     9742   Pave   NaN      Reg   \n",
      "23      24         120       RM         44.0     4224   Pave   NaN      Reg   \n",
      "24      25          20       RL          NaN     8246   Pave   NaN      IR1   \n",
      "25      26          20       RL        110.0    14230   Pave   NaN      Reg   \n",
      "26      27          20       RL         60.0     7200   Pave   NaN      Reg   \n",
      "27      28          20       RL         98.0    11478   Pave   NaN      Reg   \n",
      "28      29          20       RL         47.0    16321   Pave   NaN      IR1   \n",
      "29      30          30       RM         60.0     6324   Pave   NaN      IR1   \n",
      "...    ...         ...      ...          ...      ...    ...   ...      ...   \n",
      "1430  1431          60       RL         60.0    21930   Pave   NaN      IR3   \n",
      "1431  1432         120       RL          NaN     4928   Pave   NaN      IR1   \n",
      "1432  1433          30       RL         60.0    10800   Pave  Grvl      Reg   \n",
      "1433  1434          60       RL         93.0    10261   Pave   NaN      IR1   \n",
      "1434  1435          20       RL         80.0    17400   Pave   NaN      Reg   \n",
      "1435  1436          20       RL         80.0     8400   Pave   NaN      Reg   \n",
      "1436  1437          20       RL         60.0     9000   Pave   NaN      Reg   \n",
      "1437  1438          20       RL         96.0    12444   Pave   NaN      Reg   \n",
      "1438  1439          20       RM         90.0     7407   Pave   NaN      Reg   \n",
      "1439  1440          60       RL         80.0    11584   Pave   NaN      Reg   \n",
      "1440  1441          70       RL         79.0    11526   Pave   NaN      IR1   \n",
      "1441  1442         120       RM          NaN     4426   Pave   NaN      Reg   \n",
      "1442  1443          60       FV         85.0    11003   Pave   NaN      Reg   \n",
      "1443  1444          30       RL          NaN     8854   Pave   NaN      Reg   \n",
      "1444  1445          20       RL         63.0     8500   Pave   NaN      Reg   \n",
      "1445  1446          85       RL         70.0     8400   Pave   NaN      Reg   \n",
      "1446  1447          20       RL          NaN    26142   Pave   NaN      IR1   \n",
      "1447  1448          60       RL         80.0    10000   Pave   NaN      Reg   \n",
      "1448  1449          50       RL         70.0    11767   Pave   NaN      Reg   \n",
      "1449  1450         180       RM         21.0     1533   Pave   NaN      Reg   \n",
      "1450  1451          90       RL         60.0     9000   Pave   NaN      Reg   \n",
      "1451  1452          20       RL         78.0     9262   Pave   NaN      Reg   \n",
      "1452  1453         180       RM         35.0     3675   Pave   NaN      Reg   \n",
      "1453  1454          20       RL         90.0    17217   Pave   NaN      Reg   \n",
      "1454  1455          20       FV         62.0     7500   Pave  Pave      Reg   \n",
      "1455  1456          60       RL         62.0     7917   Pave   NaN      Reg   \n",
      "1456  1457          20       RL         85.0    13175   Pave   NaN      Reg   \n",
      "1457  1458          70       RL         66.0     9042   Pave   NaN      Reg   \n",
      "1458  1459          20       RL         68.0     9717   Pave   NaN      Reg   \n",
      "1459  1460          20       RL         75.0     9937   Pave   NaN      Reg   \n",
      "\n",
      "     LandContour Utilities  ... PoolArea PoolQC  Fence MiscFeature MiscVal  \\\n",
      "0            Lvl    AllPub  ...        0    NaN    NaN         NaN       0   \n",
      "1            Lvl    AllPub  ...        0    NaN    NaN         NaN       0   \n",
      "2            Lvl    AllPub  ...        0    NaN    NaN         NaN       0   \n",
      "3            Lvl    AllPub  ...        0    NaN    NaN         NaN       0   \n",
      "4            Lvl    AllPub  ...        0    NaN    NaN         NaN       0   \n",
      "5            Lvl    AllPub  ...        0    NaN  MnPrv        Shed     700   \n",
      "6            Lvl    AllPub  ...        0    NaN    NaN         NaN       0   \n",
      "7            Lvl    AllPub  ...        0    NaN    NaN        Shed     350   \n",
      "8            Lvl    AllPub  ...        0    NaN    NaN         NaN       0   \n",
      "9            Lvl    AllPub  ...        0    NaN    NaN         NaN       0   \n",
      "10           Lvl    AllPub  ...        0    NaN    NaN         NaN       0   \n",
      "11           Lvl    AllPub  ...        0    NaN    NaN         NaN       0   \n",
      "12           Lvl    AllPub  ...        0    NaN    NaN         NaN       0   \n",
      "13           Lvl    AllPub  ...        0    NaN    NaN         NaN       0   \n",
      "14           Lvl    AllPub  ...        0    NaN   GdWo         NaN       0   \n",
      "15           Lvl    AllPub  ...        0    NaN  GdPrv         NaN       0   \n",
      "16           Lvl    AllPub  ...        0    NaN    NaN        Shed     700   \n",
      "17           Lvl    AllPub  ...        0    NaN    NaN        Shed     500   \n",
      "18           Lvl    AllPub  ...        0    NaN    NaN         NaN       0   \n",
      "19           Lvl    AllPub  ...        0    NaN  MnPrv         NaN       0   \n",
      "20           Lvl    AllPub  ...        0    NaN    NaN         NaN       0   \n",
      "21           Bnk    AllPub  ...        0    NaN  GdPrv         NaN       0   \n",
      "22           Lvl    AllPub  ...        0    NaN    NaN         NaN       0   \n",
      "23           Lvl    AllPub  ...        0    NaN    NaN         NaN       0   \n",
      "24           Lvl    AllPub  ...        0    NaN  MnPrv         NaN       0   \n",
      "25           Lvl    AllPub  ...        0    NaN    NaN         NaN       0   \n",
      "26           Lvl    AllPub  ...        0    NaN    NaN         NaN       0   \n",
      "27           Lvl    AllPub  ...        0    NaN    NaN         NaN       0   \n",
      "28           Lvl    AllPub  ...        0    NaN    NaN         NaN       0   \n",
      "29           Lvl    AllPub  ...        0    NaN    NaN         NaN       0   \n",
      "...          ...       ...  ...      ...    ...    ...         ...     ...   \n",
      "1430         Lvl    AllPub  ...        0    NaN    NaN         NaN       0   \n",
      "1431         Lvl    AllPub  ...        0    NaN    NaN         NaN       0   \n",
      "1432         Lvl    AllPub  ...        0    NaN    NaN         NaN       0   \n",
      "1433         Lvl    AllPub  ...        0    NaN    NaN         NaN       0   \n",
      "1434         Low    AllPub  ...        0    NaN    NaN         NaN       0   \n",
      "1435         Lvl    AllPub  ...        0    NaN  GdPrv         NaN       0   \n",
      "1436         Lvl    AllPub  ...        0    NaN   GdWo         NaN       0   \n",
      "1437         Lvl    AllPub  ...        0    NaN    NaN         NaN       0   \n",
      "1438         Lvl    AllPub  ...        0    NaN  MnPrv         NaN       0   \n",
      "1439         Lvl    AllPub  ...        0    NaN    NaN         NaN       0   \n",
      "1440         Bnk    AllPub  ...        0    NaN    NaN         NaN       0   \n",
      "1441         Lvl    AllPub  ...        0    NaN    NaN         NaN       0   \n",
      "1442         Lvl    AllPub  ...        0    NaN    NaN         NaN       0   \n",
      "1443         Lvl    AllPub  ...        0    NaN    NaN         NaN       0   \n",
      "1444         Lvl    AllPub  ...        0    NaN    NaN         NaN       0   \n",
      "1445         Lvl    AllPub  ...        0    NaN    NaN         NaN       0   \n",
      "1446         Lvl    AllPub  ...        0    NaN    NaN         NaN       0   \n",
      "1447         Lvl    AllPub  ...        0    NaN    NaN         NaN       0   \n",
      "1448         Lvl    AllPub  ...        0    NaN   GdWo         NaN       0   \n",
      "1449         Lvl    AllPub  ...        0    NaN    NaN         NaN       0   \n",
      "1450         Lvl    AllPub  ...        0    NaN    NaN         NaN       0   \n",
      "1451         Lvl    AllPub  ...        0    NaN    NaN         NaN       0   \n",
      "1452         Lvl    AllPub  ...        0    NaN    NaN         NaN       0   \n",
      "1453         Lvl    AllPub  ...        0    NaN    NaN         NaN       0   \n",
      "1454         Lvl    AllPub  ...        0    NaN    NaN         NaN       0   \n",
      "1455         Lvl    AllPub  ...        0    NaN    NaN         NaN       0   \n",
      "1456         Lvl    AllPub  ...        0    NaN  MnPrv         NaN       0   \n",
      "1457         Lvl    AllPub  ...        0    NaN  GdPrv        Shed    2500   \n",
      "1458         Lvl    AllPub  ...        0    NaN    NaN         NaN       0   \n",
      "1459         Lvl    AllPub  ...        0    NaN    NaN         NaN       0   \n",
      "\n",
      "     MoSold YrSold  SaleType  SaleCondition  SalePrice  \n",
      "0         2   2008        WD         Normal     208500  \n",
      "1         5   2007        WD         Normal     181500  \n",
      "2         9   2008        WD         Normal     223500  \n",
      "3         2   2006        WD        Abnorml     140000  \n",
      "4        12   2008        WD         Normal     250000  \n",
      "5        10   2009        WD         Normal     143000  \n",
      "6         8   2007        WD         Normal     307000  \n",
      "7        11   2009        WD         Normal     200000  \n",
      "8         4   2008        WD        Abnorml     129900  \n",
      "9         1   2008        WD         Normal     118000  \n",
      "10        2   2008        WD         Normal     129500  \n",
      "11        7   2006       New        Partial     345000  \n",
      "12        9   2008        WD         Normal     144000  \n",
      "13        8   2007       New        Partial     279500  \n",
      "14        5   2008        WD         Normal     157000  \n",
      "15        7   2007        WD         Normal     132000  \n",
      "16        3   2010        WD         Normal     149000  \n",
      "17       10   2006        WD         Normal      90000  \n",
      "18        6   2008        WD         Normal     159000  \n",
      "19        5   2009       COD        Abnorml     139000  \n",
      "20       11   2006       New        Partial     325300  \n",
      "21        6   2007        WD         Normal     139400  \n",
      "22        9   2008        WD         Normal     230000  \n",
      "23        6   2007        WD         Normal     129900  \n",
      "24        5   2010        WD         Normal     154000  \n",
      "25        7   2009        WD         Normal     256300  \n",
      "26        5   2010        WD         Normal     134800  \n",
      "27        5   2010        WD         Normal     306000  \n",
      "28       12   2006        WD         Normal     207500  \n",
      "29        5   2008        WD         Normal      68500  \n",
      "...     ...    ...       ...            ...        ...  \n",
      "1430      7   2006        WD         Normal     192140  \n",
      "1431     10   2009        WD         Normal     143750  \n",
      "1432      8   2007        WD         Normal      64500  \n",
      "1433      5   2008        WD         Normal     186500  \n",
      "1434      5   2006        WD         Normal     160000  \n",
      "1435      7   2008       COD        Abnorml     174000  \n",
      "1436      5   2007        WD         Normal     120500  \n",
      "1437     11   2008       New        Partial     394617  \n",
      "1438      4   2010        WD         Normal     149700  \n",
      "1439     11   2007        WD         Normal     197000  \n",
      "1440      9   2008        WD         Normal     191000  \n",
      "1441      5   2008        WD         Normal     149300  \n",
      "1442      4   2009        WD         Normal     310000  \n",
      "1443      5   2009        WD         Normal     121000  \n",
      "1444     11   2007        WD         Normal     179600  \n",
      "1445      5   2007        WD         Normal     129000  \n",
      "1446      4   2010        WD         Normal     157900  \n",
      "1447     12   2007        WD         Normal     240000  \n",
      "1448      5   2007        WD         Normal     112000  \n",
      "1449      8   2006        WD        Abnorml      92000  \n",
      "1450      9   2009        WD         Normal     136000  \n",
      "1451      5   2009       New        Partial     287090  \n",
      "1452      5   2006        WD         Normal     145000  \n",
      "1453      7   2006        WD        Abnorml      84500  \n",
      "1454     10   2009        WD         Normal     185000  \n",
      "1455      8   2007        WD         Normal     175000  \n",
      "1456      2   2010        WD         Normal     210000  \n",
      "1457      5   2010        WD         Normal     266500  \n",
      "1458      4   2010        WD         Normal     142125  \n",
      "1459      6   2008        WD         Normal     147500  \n",
      "\n",
      "[1460 rows x 81 columns]\n"
     ]
    }
   ],
   "source": [
    "# Load Data\n",
    "df_train = pd.read_csv('train.csv')\n",
    "print(df_train)"
   ]
  },
  {
   "cell_type": "code",
   "execution_count": 6,
   "metadata": {},
   "outputs": [
    {
     "name": "stdout",
     "output_type": "stream",
     "text": [
      "   LotArea  GarageArea  SalePrice\n",
      "0     8450         548     208500\n",
      "1     9600         460     181500\n",
      "2    11250         608     223500\n",
      "3     9550         642     140000\n",
      "4    14260         836     250000\n"
     ]
    }
   ],
   "source": [
    "#Take sample feature\n",
    "sample_df_train = df_train[['LotArea','GarageArea','SalePrice']]\n",
    "print(sample_df_train.head())"
   ]
  },
  {
   "cell_type": "code",
   "execution_count": 7,
   "metadata": {},
   "outputs": [],
   "source": [
    "#Clean Data\n",
    "sample_df_train = sample_df_train.dropna()"
   ]
  },
  {
   "cell_type": "markdown",
   "metadata": {},
   "source": []
  },
  {
   "cell_type": "code",
   "execution_count": 8,
   "metadata": {},
   "outputs": [],
   "source": [
    "y_sample = sample_df_train['SalePrice']\n",
    "sample_df_train = sample_df_train.drop('SalePrice',axis = 1)\n",
    "# test = pd.merge(sample_df_train,y_sample,right_index = True,left_index = True)\n",
    "# test"
   ]
  },
  {
   "cell_type": "markdown",
   "metadata": {},
   "source": [
    "# Normalization\n",
    "### Formula Transformation\n",
    "X_std = (X - X.min(axis=0)) / (X.max(axis=0) - X.min(axis=0))\n",
    "<br> X_scaled = X_std * (max - min) + min\n",
    "<br> nb: max and min given by feature_range"
   ]
  },
  {
   "cell_type": "code",
   "execution_count": 9,
   "metadata": {
    "scrolled": true
   },
   "outputs": [
    {
     "name": "stderr",
     "output_type": "stream",
     "text": [
      "/home/doke/.local/lib/python2.7/site-packages/sklearn/preprocessing/data.py:334: DataConversionWarning: Data with input dtype int64 were all converted to float64 by MinMaxScaler.\n",
      "  return self.partial_fit(X, y)\n"
     ]
    }
   ],
   "source": [
    "from sklearn.preprocessing import MinMaxScaler\n",
    "scaler = MinMaxScaler(feature_range=(0,1),copy=True)\n",
    "x_scaled = scaler.fit_transform(sample_df_train)\n",
    "\n",
    "x_sample = pd.DataFrame(x_scaled)\n",
    "sampled = pd.merge(x_sample,y_sample,right_index = True, left_index = True)"
   ]
  },
  {
   "cell_type": "markdown",
   "metadata": {},
   "source": [
    "# Create Train and Test Set from train.csv"
   ]
  },
  {
   "cell_type": "code",
   "execution_count": 10,
   "metadata": {},
   "outputs": [],
   "source": [
    "from sklearn.model_selection import train_test_split\n",
    "train, test = train_test_split(sampled,test_size = 0.3)\n",
    "# print(train)\n",
    "# print(test)\n",
    "x_train = train.drop('SalePrice',axis = 1)\n",
    "y_train = train['SalePrice']\n",
    "\n",
    "x_test = test.drop('SalePrice', axis = 1)\n",
    "y_test = test['SalePrice']"
   ]
  },
  {
   "cell_type": "markdown",
   "metadata": {},
   "source": [
    "# Predict"
   ]
  },
  {
   "cell_type": "code",
   "execution_count": 11,
   "metadata": {},
   "outputs": [],
   "source": [
    "#Import support library\n",
    "from sklearn import neighbors\n",
    "from sklearn.metrics import mean_squared_error \n",
    "from math import sqrt\n"
   ]
  },
  {
   "cell_type": "code",
   "execution_count": 12,
   "metadata": {},
   "outputs": [
    {
     "data": {
      "text/plain": [
       "array([203000.        , 159846.66666667, 127133.33333333, 209297.        ,\n",
       "       132653.        , 281728.66666667,  99400.        ,  70466.66666667,\n",
       "       116916.66666667, 199666.66666667, 269500.        , 133300.        ,\n",
       "       250833.33333333, 198961.66666667, 116592.        , 195066.66666667,\n",
       "       182500.        , 237223.33333333, 170316.66666667, 213333.33333333,\n",
       "       190800.        , 145766.66666667, 168666.66666667, 272100.        ,\n",
       "        98666.66666667, 137283.33333333, 182000.        , 159850.        ,\n",
       "       155000.        ,  70466.66666667, 129100.        , 144000.        ,\n",
       "       352721.33333333, 171666.66666667, 115330.        , 176133.33333333,\n",
       "       232000.        , 160166.66666667, 156166.66666667, 226000.        ,\n",
       "       213333.33333333, 132333.33333333, 198833.33333333, 325666.66666667,\n",
       "       226963.66666667, 124833.33333333, 122016.66666667, 190366.66666667,\n",
       "       122166.66666667, 207653.66666667, 282166.66666667, 161166.66666667,\n",
       "       171913.33333333, 115000.        , 199633.33333333, 152166.66666667,\n",
       "       124333.33333333, 180466.66666667, 199500.        , 120333.33333333,\n",
       "       104833.33333333, 104833.33333333, 172986.33333333, 126166.66666667,\n",
       "       232000.        , 261833.33333333, 169380.        ,  85500.        ,\n",
       "       174466.66666667, 121666.66666667, 300666.66666667, 227500.        ,\n",
       "       203292.66666667, 212874.66666667, 137250.        , 167980.        ,\n",
       "        88166.66666667, 172333.33333333, 162766.66666667, 115166.66666667,\n",
       "       113583.33333333, 123333.33333333, 138333.33333333, 258000.        ,\n",
       "       124333.33333333, 147666.66666667, 179500.        , 122900.        ,\n",
       "       152966.66666667, 160333.33333333, 158300.        , 184500.        ,\n",
       "       272926.66666667, 165583.33333333, 156666.66666667, 139288.        ,\n",
       "        91166.66666667, 130833.33333333, 157166.66666667, 137250.        ,\n",
       "       144750.        , 160333.33333333, 151000.        , 201833.33333333,\n",
       "       213666.66666667, 148412.33333333, 172066.66666667, 184819.66666667,\n",
       "       118133.33333333, 150666.66666667, 178000.        , 266333.33333333,\n",
       "       120916.66666667, 215666.66666667, 168580.        , 237223.33333333,\n",
       "       113270.33333333,  94294.33333333, 173833.33333333, 238166.66666667,\n",
       "       212666.66666667, 171625.33333333, 181216.66666667, 103500.        ,\n",
       "       129000.        , 260500.        , 121666.66666667, 136966.66666667,\n",
       "       144133.33333333, 236300.        , 206135.        , 141166.66666667,\n",
       "       143000.        , 131500.        , 290000.        , 316333.33333333,\n",
       "       284256.66666667, 131833.33333333, 121666.66666667, 199316.66666667,\n",
       "       183833.33333333, 152500.        , 121666.66666667, 101500.        ,\n",
       "       301666.66666667, 216666.66666667, 143833.33333333, 174144.        ,\n",
       "       169500.        , 284256.66666667, 151166.66666667, 117501.33333333,\n",
       "       246575.        , 238475.        , 155333.33333333, 211966.66666667,\n",
       "       159500.        , 181216.66666667, 120916.66666667, 250833.33333333,\n",
       "       137283.33333333, 115666.66666667, 155333.33333333, 159850.        ,\n",
       "       138180.        , 112258.66666667, 165150.        , 167431.        ,\n",
       "       335120.33333333, 193633.33333333, 255100.        , 271750.        ,\n",
       "       189166.66666667, 120666.66666667, 162916.66666667, 155333.33333333,\n",
       "       120000.        , 109000.        , 126666.66666667, 236966.66666667,\n",
       "        82666.66666667, 104833.33333333, 160983.33333333, 137283.33333333,\n",
       "       135966.66666667, 285166.66666667, 150500.        , 129083.33333333,\n",
       "       142233.33333333, 114636.        , 183333.33333333, 175333.33333333,\n",
       "       164050.        , 183913.33333333, 223500.        , 138333.33333333,\n",
       "       158000.        , 239166.66666667, 216500.        , 142266.66666667,\n",
       "       129666.66666667, 194000.        , 167466.66666667, 208316.66666667,\n",
       "       226723.33333333, 142266.66666667, 209633.33333333,  68133.33333333,\n",
       "       135300.        , 106166.66666667, 284666.66666667, 114000.        ,\n",
       "       252333.33333333, 114833.33333333, 162666.66666667, 207526.66666667,\n",
       "        94294.33333333, 316333.33333333, 149233.33333333, 156466.66666667,\n",
       "       156800.        , 210900.        , 216333.33333333, 219833.33333333,\n",
       "       113483.33333333,  81000.        , 360552.33333333, 208316.66666667,\n",
       "       156666.66666667, 149000.        , 208316.66666667, 125300.        ,\n",
       "       321500.        , 175650.        ,  96333.33333333, 230633.33333333,\n",
       "       283000.        , 119833.33333333, 104333.33333333, 151766.66666667,\n",
       "        90500.        , 205833.33333333, 103500.        , 234666.66666667,\n",
       "       151000.        , 173500.        , 172300.        , 144300.        ,\n",
       "        82666.66666667, 160666.66666667, 172416.66666667, 226700.        ,\n",
       "       238306.33333333, 199633.33333333, 225833.33333333, 170500.        ,\n",
       "       162500.        , 116666.66666667, 196000.        , 234166.66666667,\n",
       "       164900.        , 199633.33333333, 133133.33333333, 113770.33333333,\n",
       "       297300.        , 153666.66666667, 115330.        , 127133.33333333,\n",
       "       126933.33333333, 192166.66666667, 296333.33333333, 181333.33333333,\n",
       "       128333.33333333, 175333.33333333,  68133.33333333, 168083.33333333,\n",
       "       145800.        , 151833.33333333, 192500.        ,  85500.        ,\n",
       "       213666.66666667, 150166.66666667, 175333.33333333, 195833.33333333,\n",
       "       110500.        , 113833.33333333, 269500.        , 201577.66666667,\n",
       "       133300.        , 148083.33333333, 122016.66666667, 166833.33333333,\n",
       "       192833.33333333, 147380.        , 144300.        , 234000.        ,\n",
       "       217733.33333333, 193633.33333333, 114636.        , 147133.33333333,\n",
       "       302666.66666667, 125833.33333333, 194096.66666667, 256000.        ,\n",
       "       243533.33333333, 192466.66666667,  73466.66666667, 175333.33333333,\n",
       "        81000.        , 143900.        ,  81000.        , 166666.66666667,\n",
       "       104833.33333333, 116592.        , 148666.66666667, 120000.        ,\n",
       "        93666.66666667, 158300.        , 413660.33333333, 165644.        ,\n",
       "       429666.66666667, 238300.        , 301666.66666667, 339666.66666667,\n",
       "       144266.66666667, 124500.        , 281900.        , 110333.33333333,\n",
       "       108166.66666667, 102166.66666667, 280992.33333333, 322587.        ,\n",
       "       175650.        , 299300.        , 129666.66666667,  70466.66666667,\n",
       "       205516.66666667, 206152.        , 141483.33333333, 244616.66666667,\n",
       "       187833.33333333, 135300.        , 166083.33333333, 174333.33333333,\n",
       "       150166.66666667, 121666.66666667, 124500.        , 160166.66666667,\n",
       "       234166.66666667, 179833.33333333, 248966.66666667, 140166.66666667,\n",
       "       206633.33333333, 130966.66666667, 397977.66666667, 162916.66666667,\n",
       "       208316.66666667, 113433.33333333, 176666.66666667, 172986.33333333,\n",
       "       384552.33333333, 204333.33333333, 207800.        , 258333.33333333,\n",
       "        82666.66666667, 273349.        , 133166.66666667, 150166.66666667,\n",
       "       148500.        , 133166.66666667, 115833.33333333, 244616.66666667,\n",
       "        91666.66666667, 176133.33333333, 121583.33333333, 154333.33333333,\n",
       "       142500.        , 160333.33333333, 165583.33333333,  81000.        ,\n",
       "       127666.66666667, 144266.66666667, 174833.33333333, 206166.66666667,\n",
       "       133966.66666667,  68133.33333333, 104666.66666667, 191333.33333333,\n",
       "       142333.33333333, 152666.66666667, 205000.        , 192888.33333333,\n",
       "       132653.        , 174166.66666667, 165333.33333333, 209333.33333333,\n",
       "       127950.        , 112833.33333333, 185000.        , 153133.33333333,\n",
       "       162400.        , 116666.66666667, 155333.33333333, 103500.        ,\n",
       "       126833.33333333, 195666.66666667, 162833.33333333, 121916.66666667,\n",
       "       391583.33333333, 227879.66666667, 173733.33333333, 110594.33333333,\n",
       "       150666.66666667, 112833.33333333, 152500.        , 115166.66666667,\n",
       "       124950.        , 207526.66666667, 166966.66666667, 102800.        ,\n",
       "       190000.        , 122900.        , 130333.33333333, 129666.66666667,\n",
       "       245666.66666667, 160166.66666667, 227500.        , 199500.        ,\n",
       "       210850.        ,  95500.        , 273333.33333333, 227956.66666667,\n",
       "       205666.66666667, 179100.        , 161800.        , 170666.66666667,\n",
       "       192888.33333333, 161166.66666667])"
      ]
     },
     "execution_count": 12,
     "metadata": {},
     "output_type": "execute_result"
    }
   ],
   "source": [
    "K = 3\n",
    "# Make the model\n",
    "model = neighbors.KNeighborsRegressor(n_neighbors=K)\n",
    "\n",
    "# Fitting \n",
    "model.fit(x_train,y_train)\n",
    "\n",
    "# Prediction\n",
    "prediction = model.predict(x_test)\n",
    "prediction"
   ]
  },
  {
   "cell_type": "markdown",
   "metadata": {},
   "source": [
    "# Check Error"
   ]
  },
  {
   "cell_type": "code",
   "execution_count": 13,
   "metadata": {},
   "outputs": [
    {
     "data": {
      "text/plain": [
       "54692.308835395874"
      ]
     },
     "execution_count": 13,
     "metadata": {},
     "output_type": "execute_result"
    }
   ],
   "source": [
    "error = sqrt(mean_squared_error(y_test,prediction))\n",
    "error"
   ]
  },
  {
   "cell_type": "markdown",
   "metadata": {},
   "source": [
    "## Check Error with some "
   ]
  },
  {
   "cell_type": "code",
   "execution_count": 14,
   "metadata": {},
   "outputs": [
    {
     "data": {
      "text/plain": [
       "['RMSE for K = 1 is 68390.5755416',\n",
       " 'RMSE for K = 2 is 57416.9426177',\n",
       " 'RMSE for K = 3 is 54692.3088354',\n",
       " 'RMSE for K = 4 is 54208.0962228',\n",
       " 'RMSE for K = 5 is 52424.551743',\n",
       " 'RMSE for K = 6 is 51889.1153191',\n",
       " 'RMSE for K = 7 is 50588.9253386',\n",
       " 'RMSE for K = 8 is 50334.1683974',\n",
       " 'RMSE for K = 9 is 50718.7630622',\n",
       " 'RMSE for K = 10 is 51275.7073517',\n",
       " 'RMSE for K = 11 is 51259.1424017',\n",
       " 'RMSE for K = 12 is 51018.9473002',\n",
       " 'RMSE for K = 13 is 51186.6380274',\n",
       " 'RMSE for K = 14 is 51133.5958997',\n",
       " 'RMSE for K = 15 is 51165.9848289',\n",
       " 'RMSE for K = 16 is 50769.9384634',\n",
       " 'RMSE for K = 17 is 50874.7817819',\n",
       " 'RMSE for K = 18 is 50955.5764859',\n",
       " 'RMSE for K = 19 is 51273.5095075',\n",
       " 'RMSE for K = 20 is 51274.3670068',\n",
       " 'RMSE for K = 21 is 51143.3217993',\n",
       " 'RMSE for K = 22 is 50831.746731',\n",
       " 'RMSE for K = 23 is 50895.1583211',\n",
       " 'RMSE for K = 24 is 50882.122183',\n",
       " 'RMSE for K = 25 is 50907.2659586',\n",
       " 'RMSE for K = 26 is 50946.7790508',\n",
       " 'RMSE for K = 27 is 50943.5693109',\n",
       " 'RMSE for K = 28 is 51143.1728712',\n",
       " 'RMSE for K = 29 is 50958.2974482',\n",
       " 'RMSE for K = 30 is 51121.4115398',\n",
       " 'RMSE for K = 31 is 51279.7294911',\n",
       " 'RMSE for K = 32 is 51399.1429741',\n",
       " 'RMSE for K = 33 is 51510.2686623',\n",
       " 'RMSE for K = 34 is 51500.5358611',\n",
       " 'RMSE for K = 35 is 51574.8269395',\n",
       " 'RMSE for K = 36 is 51586.6021061',\n",
       " 'RMSE for K = 37 is 51656.2949355',\n",
       " 'RMSE for K = 38 is 51714.6477962',\n",
       " 'RMSE for K = 39 is 51803.318072',\n",
       " 'RMSE for K = 40 is 51863.3079483',\n",
       " 'RMSE for K = 41 is 51818.6988642',\n",
       " 'RMSE for K = 42 is 51938.7742576',\n",
       " 'RMSE for K = 43 is 51981.2926197',\n",
       " 'RMSE for K = 44 is 52126.090394',\n",
       " 'RMSE for K = 45 is 52170.2701462',\n",
       " 'RMSE for K = 46 is 52276.4931362',\n",
       " 'RMSE for K = 47 is 52403.608185',\n",
       " 'RMSE for K = 48 is 52362.7536369',\n",
       " 'RMSE for K = 49 is 52330.2848949',\n",
       " 'RMSE for K = 50 is 52341.3968704',\n",
       " 'RMSE for K = 51 is 52173.6585734',\n",
       " 'RMSE for K = 52 is 52293.1328305',\n",
       " 'RMSE for K = 53 is 52309.4813733',\n",
       " 'RMSE for K = 54 is 52379.4987235',\n",
       " 'RMSE for K = 55 is 52490.7671227',\n",
       " 'RMSE for K = 56 is 52577.516042',\n",
       " 'RMSE for K = 57 is 52539.1185598',\n",
       " 'RMSE for K = 58 is 52617.095485',\n",
       " 'RMSE for K = 59 is 52559.4812146',\n",
       " 'RMSE for K = 60 is 52442.4829036',\n",
       " 'RMSE for K = 61 is 52448.8825624',\n",
       " 'RMSE for K = 62 is 52510.2010078',\n",
       " 'RMSE for K = 63 is 52534.4310508',\n",
       " 'RMSE for K = 64 is 52498.3664002',\n",
       " 'RMSE for K = 65 is 52527.2322991',\n",
       " 'RMSE for K = 66 is 52489.2986232',\n",
       " 'RMSE for K = 67 is 52534.365017',\n",
       " 'RMSE for K = 68 is 52619.2545718',\n",
       " 'RMSE for K = 69 is 52734.9364844',\n",
       " 'RMSE for K = 70 is 52781.8255821',\n",
       " 'RMSE for K = 71 is 52820.0703448',\n",
       " 'RMSE for K = 72 is 52860.9230232',\n",
       " 'RMSE for K = 73 is 53007.0690914',\n",
       " 'RMSE for K = 74 is 53034.6292407',\n",
       " 'RMSE for K = 75 is 53079.8917212',\n",
       " 'RMSE for K = 76 is 53115.0021133',\n",
       " 'RMSE for K = 77 is 53259.2687599',\n",
       " 'RMSE for K = 78 is 53374.2862728',\n",
       " 'RMSE for K = 79 is 53410.2346642',\n",
       " 'RMSE for K = 80 is 53349.531595',\n",
       " 'RMSE for K = 81 is 53339.8913734',\n",
       " 'RMSE for K = 82 is 53337.0378627',\n",
       " 'RMSE for K = 83 is 53321.4846129',\n",
       " 'RMSE for K = 84 is 53323.1215973',\n",
       " 'RMSE for K = 85 is 53380.8580261',\n",
       " 'RMSE for K = 86 is 53391.9531757',\n",
       " 'RMSE for K = 87 is 53410.2527888',\n",
       " 'RMSE for K = 88 is 53434.1093965',\n",
       " 'RMSE for K = 89 is 53476.3370519',\n",
       " 'RMSE for K = 90 is 53493.156561',\n",
       " 'RMSE for K = 91 is 53566.7799822',\n",
       " 'RMSE for K = 92 is 53600.4679037',\n",
       " 'RMSE for K = 93 is 53600.3606227',\n",
       " 'RMSE for K = 94 is 53641.2244987',\n",
       " 'RMSE for K = 95 is 53680.9054178',\n",
       " 'RMSE for K = 96 is 53734.4648102',\n",
       " 'RMSE for K = 97 is 53820.1602362',\n",
       " 'RMSE for K = 98 is 53894.9305303',\n",
       " 'RMSE for K = 99 is 53923.1066628',\n",
       " 'RMSE for K = 100 is 53965.2233548']"
      ]
     },
     "execution_count": 14,
     "metadata": {},
     "output_type": "execute_result"
    }
   ],
   "source": [
    "all_error = [] \n",
    "str_error = []\n",
    "for K in range(100):\n",
    "    K += 1\n",
    "    model = neighbors.KNeighborsRegressor(n_neighbors=K)\n",
    "    \n",
    "    #fitting\n",
    "    model.fit(x_train,y_train)\n",
    "    \n",
    "    #prediction\n",
    "    prediction = model.predict(x_test)\n",
    "    \n",
    "    #count error and store it\n",
    "    error = sqrt(mean_squared_error(y_test,prediction))\n",
    "    \n",
    "    all_error.append(error)\n",
    "    str_ =\"RMSE for K = \" + str(K) + \" is \" + str(error) \n",
    "    str_error.append(str_)\n",
    "str_error"
   ]
  },
  {
   "cell_type": "markdown",
   "metadata": {},
   "source": [
    "## Plotting"
   ]
  },
  {
   "cell_type": "code",
   "execution_count": 15,
   "metadata": {},
   "outputs": [
    {
     "data": {
      "text/plain": [
       "<matplotlib.axes._subplots.AxesSubplot at 0x7f5a15050c50>"
      ]
     },
     "execution_count": 15,
     "metadata": {},
     "output_type": "execute_result"
    },
    {
     "data": {
      "image/png": "[encoded data removed]",
      "text/plain": [
       "<matplotlib.figure.Figure at 0x7f5a13db4b50>"
      ]
     },
     "metadata": {
      "needs_background": "light"
     },
     "output_type": "display_data"
    }
   ],
   "source": [
    "plot_curve = pd.DataFrame(all_error)\n",
    "plot_curve.plot()\n"
   ]
  },
  {
   "cell_type": "code",
   "execution_count": 16,
   "metadata": {},
   "outputs": [
    {
     "name": "stdout",
     "output_type": "stream",
     "text": [
      "('The smallest value RMSE is ', 50334.168397393536, ' in index ', 8)\n"
     ]
    }
   ],
   "source": [
    "mini = all_error[0]\n",
    "index = 0\n",
    "for i in range(len(all_error)):\n",
    "     if all_error[i]<mini :\n",
    "            mini = all_error[i]\n",
    "            index = i+1\n",
    "\n",
    "print(\"The smallest value RMSE is \",mini,\" in index \",index)"
   ]
  },
  {
   "cell_type": "markdown",
   "metadata": {},
   "source": [
    "## Predict Test.csv"
   ]
  },
  {
   "cell_type": "markdown",
   "metadata": {},
   "source": [
    "### Load Data Test"
   ]
  },
  {
   "cell_type": "code",
   "execution_count": 18,
   "metadata": {},
   "outputs": [
    {
     "name": "stdout",
     "output_type": "stream",
     "text": [
      "      LotArea  GarageArea\n",
      "0       11622       730.0\n",
      "1       14267       312.0\n",
      "2       13830       482.0\n",
      "3        9978       470.0\n",
      "4        5005       506.0\n",
      "5       10000       440.0\n",
      "6        7980       420.0\n",
      "7        8402       393.0\n",
      "8       10176       506.0\n",
      "9        8400       525.0\n",
      "10       5858       511.0\n",
      "11       1680       264.0\n",
      "12       1680       320.0\n",
      "13       2280       440.0\n",
      "14       2280       308.0\n",
      "15      12858       751.0\n",
      "16      12883       868.0\n",
      "17      11520       730.0\n",
      "18      14122       678.0\n",
      "19      14300       958.0\n",
      "20      13650       756.0\n",
      "21       7132       484.0\n",
      "22      18494       430.0\n",
      "23       3203       437.0\n",
      "24      13300       400.0\n",
      "25       8577       433.0\n",
      "26      17433       962.0\n",
      "27       8987       880.0\n",
      "28       9215       676.0\n",
      "29      10440       528.0\n",
      "...       ...         ...\n",
      "1429     7030       272.0\n",
      "1430     9060       384.0\n",
      "1431    12366         0.0\n",
      "1432     9000         0.0\n",
      "1433     8520         0.0\n",
      "1434     5748       495.0\n",
      "1435     3842       525.0\n",
      "1436    23580       576.0\n",
      "1437     8385       616.0\n",
      "1438     9116       490.0\n",
      "1439    11080       528.0\n",
      "1440    50102       518.0\n",
      "1441     8098       470.0\n",
      "1442    13618       714.0\n",
      "1443    11577       682.0\n",
      "1444    31250       270.0\n",
      "1445     7020       784.0\n",
      "1446     2665       336.0\n",
      "1447    10172       288.0\n",
      "1448    11836       928.0\n",
      "1449     1470         0.0\n",
      "1450     1484       253.0\n",
      "1451    13384       336.0\n",
      "1452     1533       286.0\n",
      "1453     1526         0.0\n",
      "1454     1936         0.0\n",
      "1455     1894       286.0\n",
      "1456    20000       576.0\n",
      "1457    10441         0.0\n",
      "1458     9627       650.0\n",
      "\n",
      "[1458 rows x 2 columns]\n"
     ]
    }
   ],
   "source": [
    "df_test = pd.read_csv(\"test.csv\");\n",
    "df_test = df_test[['LotArea','GarageArea']]\n",
    "df_test = df_test.dropna()\n",
    "print(df_test)\n",
    "# Predict\n"
   ]
  },
  {
   "cell_type": "markdown",
   "metadata": {},
   "source": [
    "### Normalization"
   ]
  },
  {
   "cell_type": "code",
   "execution_count": 19,
   "metadata": {},
   "outputs": [
    {
     "name": "stdout",
     "output_type": "stream",
     "text": [
      "             0         1\n",
      "0     0.184147  0.490591\n",
      "1     0.232124  0.209677\n",
      "2     0.224197  0.323925\n",
      "3     0.154326  0.315860\n",
      "4     0.064121  0.340054\n",
      "5     0.154725  0.295699\n",
      "6     0.118085  0.282258\n",
      "7     0.125739  0.264113\n",
      "8     0.157918  0.340054\n",
      "9     0.125703  0.352823\n",
      "10    0.079594  0.343414\n",
      "11    0.003809  0.177419\n",
      "12    0.003809  0.215054\n",
      "13    0.014693  0.295699\n",
      "14    0.014693  0.206989\n",
      "15    0.206566  0.504704\n",
      "16    0.207020  0.583333\n",
      "17    0.182296  0.490591\n",
      "18    0.229494  0.455645\n",
      "19    0.232723  0.643817\n",
      "20    0.220932  0.508065\n",
      "21    0.102703  0.325269\n",
      "22    0.308797  0.288978\n",
      "23    0.031435  0.293683\n",
      "24    0.214584  0.268817\n",
      "25    0.128913  0.290995\n",
      "26    0.289552  0.646505\n",
      "27    0.136350  0.591398\n",
      "28    0.140486  0.454301\n",
      "29    0.162706  0.354839\n",
      "...        ...       ...\n",
      "1428  0.100853  0.182796\n",
      "1429  0.137675  0.258065\n",
      "1430  0.197642  0.000000\n",
      "1431  0.136586  0.000000\n",
      "1432  0.127880  0.000000\n",
      "1433  0.077598  0.332661\n",
      "1434  0.043026  0.352823\n",
      "1435  0.401052  0.387097\n",
      "1436  0.125431  0.413978\n",
      "1437  0.138690  0.329301\n",
      "1438  0.174315  0.354839\n",
      "1439  0.882133  0.348118\n",
      "1440  0.120225  0.315860\n",
      "1441  0.220352  0.479839\n",
      "1442  0.183330  0.458333\n",
      "1443  0.540178  0.181452\n",
      "1444  0.100671  0.526882\n",
      "1445  0.021676  0.225806\n",
      "1446  0.157845  0.193548\n",
      "1447  0.188028  0.623656\n",
      "1448  0.000000  0.000000\n",
      "1449  0.000254  0.170027\n",
      "1450  0.216107  0.225806\n",
      "1451  0.001143  0.192204\n",
      "1452  0.001016  0.000000\n",
      "1453  0.008453  0.000000\n",
      "1454  0.007691  0.192204\n",
      "1455  0.336115  0.387097\n",
      "1456  0.162724  0.000000\n",
      "1457  0.147959  0.436828\n",
      "\n",
      "[1458 rows x 2 columns]\n"
     ]
    },
    {
     "name": "stderr",
     "output_type": "stream",
     "text": [
      "/home/doke/.local/lib/python2.7/site-packages/sklearn/preprocessing/data.py:334: DataConversionWarning: Data with input dtype int64, float64 were all converted to float64 by MinMaxScaler.\n",
      "  return self.partial_fit(X, y)\n"
     ]
    }
   ],
   "source": [
    "test_scaled = scaler.fit_transform(df_test)\n",
    "# test_scaled\n",
    "test_scaled = pd.DataFrame(test_scaled)\n",
    "print(test_scaled)"
   ]
  },
  {
   "cell_type": "markdown",
   "metadata": {},
   "source": []
  },
  {
   "cell_type": "code",
   "execution_count": 20,
   "metadata": {},
   "outputs": [
    {
     "data": {
      "text/plain": [
       "array([216425.5  , 196233.125, 217078.   , ..., 209953.   , 147625.   ,\n",
       "       172781.25 ])"
      ]
     },
     "execution_count": 20,
     "metadata": {},
     "output_type": "execute_result"
    }
   ],
   "source": [
    "K = index\n",
    "model = neighbors.KNeighborsRegressor(n_neighbors=K)\n",
    "model.fit(x_train,y_train)\n",
    "\n",
    "predict = model.predict(test_scaled)\n",
    "predict"
   ]
  },
  {
   "cell_type": "code",
   "execution_count": 21,
   "metadata": {},
   "outputs": [
    {
     "name": "stdout",
     "output_type": "stream",
     "text": [
      "      LotArea  GarageArea   SalePrice\n",
      "0       11622       730.0  216425.500\n",
      "1       14267       312.0  196233.125\n",
      "2       13830       482.0  217078.000\n",
      "3        9978       470.0  220293.625\n",
      "4        5005       506.0  208106.250\n",
      "5       10000       440.0  217436.125\n",
      "6        7980       420.0  204104.375\n",
      "7        8402       393.0  182733.125\n",
      "8       10176       506.0  192328.000\n",
      "9        8400       525.0  211203.000\n",
      "10       5858       511.0  241112.500\n",
      "11       1680       264.0  101800.000\n",
      "12       1680       320.0  105137.500\n",
      "13       2280       440.0  145275.000\n",
      "14       2280       308.0  116254.250\n",
      "15      12858       751.0  271144.250\n",
      "16      12883       868.0  337431.250\n",
      "17      11520       730.0  216425.500\n",
      "18      14122       678.0  178531.250\n",
      "19      14300       958.0  337431.250\n",
      "20      13650       756.0  289144.250\n",
      "21       7132       484.0  227949.375\n",
      "22      18494       430.0  217078.000\n",
      "23       3203       437.0  129508.000\n",
      "24      13300       400.0  222061.125\n",
      "25       8577       433.0  214104.375\n",
      "26      17433       962.0  337431.250\n",
      "27       8987       880.0  371549.125\n",
      "28       9215       676.0  198800.500\n",
      "29      10440       528.0  196515.500\n",
      "...       ...         ...         ...\n",
      "1428     8534         0.0  151587.500\n",
      "1429     7030       272.0  182733.125\n",
      "1430     9060       384.0  147625.000\n",
      "1431    12366         0.0  147625.000\n",
      "1432     9000         0.0  147625.000\n",
      "1433     8520         0.0  218362.500\n",
      "1434     5748       495.0  192375.000\n",
      "1435     3842       525.0  260828.000\n",
      "1436    23580       576.0  196250.000\n",
      "1437     8385       616.0  230606.125\n",
      "1438     9116       490.0  216453.000\n",
      "1439    11080       528.0  325243.750\n",
      "1440    50102       518.0  225289.875\n",
      "1441     8098       470.0  250425.500\n",
      "1442    13618       714.0  203675.500\n",
      "1443    11577       682.0  242821.750\n",
      "1444    31250       270.0  350644.625\n",
      "1445     7020       784.0  119522.500\n",
      "1446     2665       336.0  142367.500\n",
      "1447    10172       288.0  337431.250\n",
      "1448    11836       928.0   83362.500\n",
      "1449     1470         0.0  107925.000\n",
      "1450     1484       253.0  196233.125\n",
      "1451    13384       336.0  105425.000\n",
      "1452     1533       286.0   83362.500\n",
      "1453     1526         0.0   80425.000\n",
      "1454     1936         0.0  104800.000\n",
      "1455     1894       286.0  209953.000\n",
      "1456    20000       576.0  147625.000\n",
      "1457    10441         0.0  172781.250\n",
      "\n",
      "[1457 rows x 3 columns]\n"
     ]
    }
   ],
   "source": [
    "pd_predict = pd.DataFrame(predict)\n",
    "result = pd.merge(df_test,pd_predict,right_index = True, left_index = True)\n",
    "result.rename(columns = {0:\"SalePrice\"}, inplace = True)\n",
    "print(result)"
   ]
  }
 ],
 "metadata": {
  "kernelspec": {
   "display_name": "Python 2",
   "language": "python",
   "name": "python2"
  },
  "language_info": {
   "codemirror_mode": {
    "name": "ipython",
    "version": 2
   },
   "file_extension": ".py",
   "mimetype": "text/x-python",
   "name": "python",
   "nbconvert_exporter": "python",
   "pygments_lexer": "ipython2",
   "version": "2.7.15+"
  }
 },
 "nbformat": 4,
 "nbformat_minor": 2
}
