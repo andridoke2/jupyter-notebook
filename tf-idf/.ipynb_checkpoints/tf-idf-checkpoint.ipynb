{
 "cells": [
  {
   "cell_type": "code",
   "execution_count": 1,
   "metadata": {},
   "outputs": [],
   "source": [
    "from sklearn.feature_extraction.text import TfidfVectorizer"
   ]
  },
  {
   "cell_type": "code",
   "execution_count": 2,
   "metadata": {},
   "outputs": [],
   "source": [
    "import operator"
   ]
  },
  {
   "cell_type": "code",
   "execution_count": 3,
   "metadata": {},
   "outputs": [],
   "source": [
    "corpus = [\"this is my car which is excellent\", \"good car gives good milage\", \"this car is very expensive\", \"the boy is very good but can not drive a car\", \"this company is very rich\"]"
   ]
  },
  {
   "cell_type": "code",
   "execution_count": 5,
   "metadata": {},
   "outputs": [],
   "source": [
    "vocabulary = set()\n",
    "for doc in corpus:\n",
    "    vocabulary.update(doc.split())"
   ]
  },
  {
   "cell_type": "code",
   "execution_count": 7,
   "metadata": {},
   "outputs": [
    {
     "name": "stdout",
     "output_type": "stream",
     "text": [
      "set(['a', 'boy', 'good', 'rich', 'this', 'car', 'is', 'drive', 'but', 'very', 'can', 'which', 'excellent', 'not', 'milage', 'the', 'my', 'company', 'expensive', 'gives'])\n"
     ]
    }
   ],
   "source": [
    "print(vocabulary)"
   ]
  },
  {
   "cell_type": "code",
   "execution_count": 8,
   "metadata": {},
   "outputs": [],
   "source": [
    "vocabulary = list(vocabulary)"
   ]
  },
  {
   "cell_type": "code",
   "execution_count": 9,
   "metadata": {},
   "outputs": [],
   "source": [
    "word_index = {w: id for id, w in enumerate(vocabulary)}"
   ]
  },
  {
   "cell_type": "code",
   "execution_count": 10,
   "metadata": {},
   "outputs": [
    {
     "name": "stdout",
     "output_type": "stream",
     "text": [
      "{'a': 0, 'boy': 1, 'good': 2, 'which': 11, 'this': 4, 'car': 5, 'is': 6, 'drive': 7, 'but': 8, 'very': 9, 'can': 10, 'rich': 3, 'excellent': 12, 'not': 13, 'milage': 14, 'the': 15, 'my': 16, 'company': 17, 'expensive': 18, 'gives': 19}\n"
     ]
    }
   ],
   "source": [
    "print(word_index)"
   ]
  },
  {
   "cell_type": "code",
   "execution_count": 11,
   "metadata": {},
   "outputs": [],
   "source": [
    "tfidf = TfidfVectorizer(vocabulary=vocabulary)"
   ]
  },
  {
   "cell_type": "code",
   "execution_count": 12,
   "metadata": {},
   "outputs": [
    {
     "data": {
      "text/plain": [
       "TfidfVectorizer(analyzer=u'word', binary=False, decode_error=u'strict',\n",
       "        dtype=<type 'numpy.float64'>, encoding=u'utf-8', input=u'content',\n",
       "        lowercase=True, max_df=1.0, max_features=None, min_df=1,\n",
       "        ngram_range=(1, 1), norm=u'l2', preprocessor=None, smooth_idf=True,\n",
       "        stop_words=None, strip_accents=None, sublinear_tf=False,\n",
       "        token_pattern=u'(?u)\\\\b\\\\w\\\\w+\\\\b', tokenizer=None, use_idf=True,\n",
       "        vocabulary=['a', 'boy', 'good', 'rich', 'this', 'car', 'is', 'drive', 'but', 'very', 'can', 'which', 'excellent', 'not', 'milage', 'the', 'my', 'company', 'expensive', 'gives'])"
      ]
     },
     "execution_count": 12,
     "metadata": {},
     "output_type": "execute_result"
    }
   ],
   "source": [
    "tfidf.fit(corpus)"
   ]
  },
  {
   "cell_type": "code",
   "execution_count": 13,
   "metadata": {},
   "outputs": [
    {
     "data": {
      "text/plain": [
       "<5x20 sparse matrix of type '<type 'numpy.float64'>'\n",
       "\twith 30 stored elements in Compressed Sparse Row format>"
      ]
     },
     "execution_count": 13,
     "metadata": {},
     "output_type": "execute_result"
    }
   ],
   "source": [
    "tfidf.transform(corpus)"
   ]
  },
  {
   "cell_type": "code",
   "execution_count": 21,
   "metadata": {},
   "outputs": [
    {
     "name": "stdout",
     "output_type": "stream",
     "text": [
      "this is my car which is excellent\n",
      "\n",
      "[('is', 0.5021246263031406), ('which', 0.4456338062802888), ('excellent', 0.4456338062802888), ('my', 0.4456338062802888), ('this', 0.298446153728508), ('car', 0.2510623131515703)]\n",
      "\n",
      "good car gives good milage\n",
      "\n",
      "[('good', 0.7273827195308361), ('milage', 0.4507860661196066), ('gives', 0.4507860661196066), ('car', 0.2539650064728294)]\n",
      "\n",
      "this car is very expensive\n",
      "\n",
      "[('expensive', 0.6284677091488343), ('this', 0.42089214932689584), ('very', 0.42089214932689584), ('car', 0.35406774480824155), ('is', 0.35406774480824155)]\n",
      "\n",
      "the boy is very good but can not drive a car\n",
      "\n",
      "[('boy', 0.35957664008743223), ('drive', 0.35957664008743223), ('but', 0.35957664008743223), ('can', 0.35957664008743223), ('not', 0.35957664008743223), ('the', 0.35957664008743223), ('good', 0.2901041691439065), ('very', 0.24081266657138917), ('car', 0.20257920683611627), ('is', 0.20257920683611627), ('a', 0.0)]\n",
      "\n",
      "this company is very rich\n",
      "\n",
      "[('company', 0.5577610662836826), ('rich', 0.5577610662836826), ('this', 0.3735390865458212), ('very', 0.3735390865458212), ('is', 0.31423285557243325)]\n",
      "\n"
     ]
    }
   ],
   "source": [
    "for doc in corpus:\n",
    "    score = {}\n",
    "    print(doc)\n",
    "    print\n",
    "    X = tfidf.transform([doc])\n",
    "    for word in doc.split():\n",
    "        score[word] = X[0, tfidf.vocabulary_[word]]\n",
    "    sortedscore = sorted(score.items(), key= operator.itemgetter(1), reverse = True)\n",
    "    print(sortedscore)\n",
    "    print"
   ]
  },
  {
   "cell_type": "code",
   "execution_count": null,
   "metadata": {},
   "outputs": [],
   "source": []
  }
 ],
 "metadata": {
  "kernelspec": {
   "display_name": "Python 2",
   "language": "python",
   "name": "python2"
  },
  "language_info": {
   "codemirror_mode": {
    "name": "ipython",
    "version": 2
   },
   "file_extension": ".py",
   "mimetype": "text/x-python",
   "name": "python",
   "nbconvert_exporter": "python",
   "pygments_lexer": "ipython2",
   "version": "2.7.15+"
  }
 },
 "nbformat": 4,
 "nbformat_minor": 2
}
